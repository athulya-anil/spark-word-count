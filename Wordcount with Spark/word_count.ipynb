{
 "cells": [
  {
   "cell_type": "code",
   "id": "initial_id",
   "metadata": {
    "collapsed": true,
    "ExecuteTime": {
     "end_time": "2024-10-10T01:38:04.092019Z",
     "start_time": "2024-10-10T01:38:04.072210Z"
    }
   },
   "source": [
    "from pyspark.sql import SparkSession\n",
    "from pyspark.sql.functions import split, explode"
   ],
   "outputs": [],
   "execution_count": 19
  },
  {
   "metadata": {
    "ExecuteTime": {
     "end_time": "2024-10-10T01:19:48.876929Z",
     "start_time": "2024-10-10T01:19:45.951667Z"
    }
   },
   "cell_type": "code",
   "source": "spark = SparkSession.builder.appName(\"word_count\").getOrCreate()",
   "id": "a363a421236cf2bf",
   "outputs": [
    {
     "name": "stderr",
     "output_type": "stream",
     "text": [
      "24/10/09 21:19:47 WARN Utils: Your hostname, Nikhils-MacBook-Pro.local resolves to a loopback address: 127.0.0.1; using 10.0.0.53 instead (on interface en0)\n",
      "24/10/09 21:19:47 WARN Utils: Set SPARK_LOCAL_IP if you need to bind to another address\n",
      "Setting default log level to \"WARN\".\n",
      "To adjust logging level use sc.setLogLevel(newLevel). For SparkR, use setLogLevel(newLevel).\n",
      "24/10/09 21:19:47 WARN NativeCodeLoader: Unable to load native-hadoop library for your platform... using builtin-java classes where applicable\n"
     ]
    }
   ],
   "execution_count": 2
  },
  {
   "metadata": {
    "ExecuteTime": {
     "end_time": "2024-10-10T01:26:19.891979Z",
     "start_time": "2024-10-10T01:26:19.228418Z"
    }
   },
   "cell_type": "code",
   "source": [
    "hamlet_df = spark.read.text(\"hamlet.txt\").cache()\n",
    "# hamlet_df.show()\n",
    "## Print dimensions of the dataframe\n",
    "print((hamlet_df.count(), len(hamlet_df.columns)))"
   ],
   "id": "b629757b584dfee",
   "outputs": [
    {
     "name": "stdout",
     "output_type": "stream",
     "text": [
      "(5899, 1)\n"
     ]
    }
   ],
   "execution_count": 8
  },
  {
   "metadata": {
    "ExecuteTime": {
     "end_time": "2024-10-10T01:38:29.715427Z",
     "start_time": "2024-10-10T01:38:29.050642Z"
    }
   },
   "cell_type": "code",
   "source": [
    "split_df = split(hamlet_df.value, ' ')\n",
    "explode_df = explode(split_df).alias('split_words')\n",
    "words_df = hamlet_df.select(explode_df)\n",
    "words_df.count()\n",
    "# words_df.show()"
   ],
   "id": "c3e4629fddd92b32",
   "outputs": [
    {
     "data": {
      "text/plain": [
       "31809"
      ]
     },
     "execution_count": 21,
     "metadata": {},
     "output_type": "execute_result"
    }
   ],
   "execution_count": 21
  }
 ],
 "metadata": {
  "kernelspec": {
   "display_name": "Python 3",
   "language": "python",
   "name": "python3"
  },
  "language_info": {
   "codemirror_mode": {
    "name": "ipython",
    "version": 2
   },
   "file_extension": ".py",
   "mimetype": "text/x-python",
   "name": "python",
   "nbconvert_exporter": "python",
   "pygments_lexer": "ipython2",
   "version": "2.7.6"
  }
 },
 "nbformat": 4,
 "nbformat_minor": 5
}
