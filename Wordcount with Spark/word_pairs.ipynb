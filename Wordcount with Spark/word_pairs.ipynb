{
 "cells": [
  {
   "cell_type": "code",
   "id": "initial_id",
   "metadata": {
    "collapsed": true,
    "ExecuteTime": {
     "end_time": "2024-10-10T22:33:20.277784Z",
     "start_time": "2024-10-10T22:33:20.270813Z"
    }
   },
   "source": [
    "from pyspark.sql import SparkSession\n",
    "\n",
    "import assignment3.data_cleaner as dc\n",
    "import importlib\n",
    "\n",
    "# from pyspark.sql.functions"
   ],
   "outputs": [],
   "execution_count": 47
  },
  {
   "metadata": {
    "ExecuteTime": {
     "end_time": "2024-10-10T22:39:46.597574Z",
     "start_time": "2024-10-10T22:39:46.320207Z"
    }
   },
   "cell_type": "code",
   "source": [
    "# Reload the module\n",
    "importlib.reload(dc)\n",
    "\n",
    "# Create a spark session and load text file\n",
    "spark = SparkSession.builder.appName(\"word_pairs\").getOrCreate()\n",
    "hamlet_df = spark.read.text(\"hamlet.txt\").cache()\n",
    "print(hamlet_df.count())\n",
    "hamlet_df.show()\n",
    "\n",
    "# Clean the dataframe but DO NOT split and explode the words\n",
    "hamlet_rows_df = dc.clean_dataset(hamlet_df, should_split_explode=False)\n",
    "# hamlet_rows_df.show()\n",
    "print(hamlet_rows_df.count())"
   ],
   "id": "292f31b036bbfa99",
   "outputs": [
    {
     "name": "stdout",
     "output_type": "stream",
     "text": [
      "5899\n",
      "+--------------------+\n",
      "|               value|\n",
      "+--------------------+\n",
      "|             HAMLET,|\n",
      "|  PRINCE OF DENMARK.|\n",
      "|              ACT I.|\n",
      "|Scene I.—ELSINORE...|\n",
      "|Francisco on his ...|\n",
      "|                    |\n",
      "|   Ber. Who's there?|\n",
      "|                    |\n",
      "|Fran. (R.) Nay, a...|\n",
      "|                    |\n",
      "|Ber. Long live th...|\n",
      "|                    |\n",
      "|               Fran.|\n",
      "|           Bernardo?|\n",
      "|                    |\n",
      "|                Ber.|\n",
      "|                 He.|\n",
      "|                    |\n",
      "|Fran. You come mo...|\n",
      "|                    |\n",
      "+--------------------+\n",
      "only showing top 20 rows\n",
      "\n",
      "3062\n"
     ]
    }
   ],
   "execution_count": 53
  },
  {
   "metadata": {
    "ExecuteTime": {
     "end_time": "2024-10-10T21:38:57.989715Z",
     "start_time": "2024-10-10T21:38:57.931093Z"
    }
   },
   "cell_type": "code",
   "source": [
    "from pyspark.sql.functions import explode, split\n",
    "hamlet_exploded_df = hamlet_rows_df.select(explode(split(hamlet_rows_df.word, ' ')).alias('word'))\n",
    "hamlet_exploded_df.show()"
   ],
   "id": "8989d039ae3e4f01",
   "outputs": [
    {
     "name": "stdout",
     "output_type": "stream",
     "text": [
      "+---------+\n",
      "|     word|\n",
      "+---------+\n",
      "|   hamlet|\n",
      "|   prince|\n",
      "|       of|\n",
      "|  denmark|\n",
      "|      act|\n",
      "|        i|\n",
      "|    scene|\n",
      "|ielsinore|\n",
      "|        a|\n",
      "| platform|\n",
      "|   before|\n",
      "|      the|\n",
      "|   castle|\n",
      "|    night|\n",
      "|francisco|\n",
      "|       on|\n",
      "|      his|\n",
      "|     post|\n",
      "|    enter|\n",
      "|       to|\n",
      "+---------+\n",
      "only showing top 20 rows\n",
      "\n"
     ]
    }
   ],
   "execution_count": 24
  },
  {
   "metadata": {
    "ExecuteTime": {
     "end_time": "2024-10-11T03:14:39.390917Z",
     "start_time": "2024-10-11T03:14:39.385761Z"
    }
   },
   "cell_type": "code",
   "source": [
    "from itertools import combinations_with_replacement\n",
    "a = ['a', 'b', 'c', 'a']\n",
    "alist = dict({word: a.count(word) for word in a})\n",
    "pair_list = list(combinations_with_replacement(alist.keys(), 2))\n",
    "newlist = []\n",
    "for pair in pair_list:\n",
    "    newlist.extend([f\"({pair[0]}, {pair[1]})\" for _ in range(min(alist[pair[0]], alist[pair[1]]))])\n",
    "print(newlist)\n",
    "# print(list(combinations_with_replacement(alist, 2)))"
   ],
   "id": "119173ba6f9330d9",
   "outputs": [
    {
     "name": "stdout",
     "output_type": "stream",
     "text": [
      "['(a, a)', '(a, a)', '(a, b)', '(a, c)', '(b, b)', '(b, c)', '(c, c)']\n"
     ]
    }
   ],
   "execution_count": 27
  },
  {
   "metadata": {
    "ExecuteTime": {
     "end_time": "2024-10-10T21:54:40.490115Z",
     "start_time": "2024-10-10T21:54:40.253862Z"
    }
   },
   "cell_type": "code",
   "source": [
    "# Get the list of words and convert them to pairs\n",
    "\n",
    "from pyspark.sql.functions import udf, size\n",
    "from pyspark.sql.types import ArrayType, StringType\n",
    "from itertools import combinations_with_replacement\n",
    "\n",
    "def create_pairs(sentence):\n",
    "    # set will remove duplicates\n",
    "    all_words = sorted(list(([word for word in sentence.split(' ') if word != ''])))\n",
    "    \n",
    "    # Create pairs using itertools\n",
    "    pairs = list(combinations_with_replacement(all_words, 2))\n",
    "    \n",
    "    # Add pairs to the dataframe as constant string literals.\n",
    "    return [f\"({pair[0]}, {pair[1]})\" for pair in pairs]\n",
    "\n",
    "create_pairs_udf = udf(create_pairs, ArrayType(StringType()))\n",
    "pairs_df = hamlet_rows_df.select(create_pairs_udf(hamlet_rows_df.word).alias('pairs'))\n",
    "\n",
    "# Filter out null values and empty lists\n",
    "pairs_df_cleaned = pairs_df.filter(pairs_df.pairs.isNotNull() & (size(pairs_df.pairs) > 0))\n",
    "all_pairs_df = pairs_df_cleaned.select(explode(pairs_df_cleaned.pairs).alias('pair'))\n",
    "all_pairs_df.show()"
   ],
   "id": "e61cce8aeb718281",
   "outputs": [
    {
     "name": "stdout",
     "output_type": "stream",
     "text": [
      "+--------------------+\n",
      "|                pair|\n",
      "+--------------------+\n",
      "|    (hamlet, hamlet)|\n",
      "|            (of, of)|\n",
      "|        (of, prince)|\n",
      "|       (of, denmark)|\n",
      "|    (prince, prince)|\n",
      "|   (prince, denmark)|\n",
      "|  (denmark, denmark)|\n",
      "|          (act, act)|\n",
      "|            (act, i)|\n",
      "|              (i, i)|\n",
      "|(ielsinore, ielsi...|\n",
      "| (ielsinore, castle)|\n",
      "|  (ielsinore, scene)|\n",
      "|    (ielsinore, the)|\n",
      "|      (ielsinore, a)|\n",
      "|(ielsinore, platf...|\n",
      "| (ielsinore, before)|\n",
      "|  (ielsinore, night)|\n",
      "|    (castle, castle)|\n",
      "|     (castle, scene)|\n",
      "+--------------------+\n",
      "only showing top 20 rows\n",
      "\n"
     ]
    }
   ],
   "execution_count": 43
  },
  {
   "metadata": {
    "ExecuteTime": {
     "end_time": "2024-10-10T21:55:40.015090Z",
     "start_time": "2024-10-10T21:55:39.599170Z"
    }
   },
   "cell_type": "code",
   "source": [
    "# Count the number of pairs\n",
    "\n",
    "all_pairs_df.groupBy('pair').count().orderBy('count', ascending=False).limit(20).show()"
   ],
   "id": "7a9cc3414e5f446d",
   "outputs": [
    {
     "name": "stdout",
     "output_type": "stream",
     "text": [
      "+------------+-----+\n",
      "|        pair|count|\n",
      "+------------+-----+\n",
      "|  (the, the)|  756|\n",
      "|  (and, and)|  621|\n",
      "|    (to, to)|  547|\n",
      "|    (of, of)|  525|\n",
      "|      (a, a)|  395|\n",
      "|    (in, in)|  356|\n",
      "|  (you, you)|  356|\n",
      "|      (i, i)|  349|\n",
      "|    (my, my)|  338|\n",
      "|   (of, the)|  325|\n",
      "|    (is, is)|  283|\n",
      "|    (it, it)|  282|\n",
      "|(that, that)|  264|\n",
      "|  (ham, ham)|  261|\n",
      "|  (the, and)|  231|\n",
      "|  (not, not)|  226|\n",
      "|(this, this)|  223|\n",
      "|   (to, the)|  216|\n",
      "|(with, with)|  215|\n",
      "|  (his, his)|  211|\n",
      "+------------+-----+\n",
      "\n"
     ]
    }
   ],
   "execution_count": 45
  },
  {
   "metadata": {
    "ExecuteTime": {
     "end_time": "2024-10-10T22:17:13.637074Z",
     "start_time": "2024-10-10T22:17:13.014973Z"
    }
   },
   "cell_type": "code",
   "source": "spark.stop()",
   "id": "ac80bf69263a90ad",
   "outputs": [],
   "execution_count": 46
  }
 ],
 "metadata": {
  "kernelspec": {
   "display_name": "Python 3",
   "language": "python",
   "name": "python3"
  },
  "language_info": {
   "codemirror_mode": {
    "name": "ipython",
    "version": 2
   },
   "file_extension": ".py",
   "mimetype": "text/x-python",
   "name": "python",
   "nbconvert_exporter": "python",
   "pygments_lexer": "ipython2",
   "version": "2.7.6"
  }
 },
 "nbformat": 4,
 "nbformat_minor": 5
}
